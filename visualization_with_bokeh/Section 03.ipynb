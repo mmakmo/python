{
 "cells": [
  {
   "cell_type": "code",
   "execution_count": 23,
   "metadata": {
    "collapsed": false
   },
   "outputs": [
    {
     "name": "stderr",
     "output_type": "stream",
     "text": [
      "INFO:bokeh.core.state:Session output file 'iris.html' already exists, will be overwritten.\n"
     ]
    }
   ],
   "source": [
    "from bokeh.plotting import figure\n",
    "from bokeh.io import output_file, show\n",
    "from bokeh.sampledata.iris import flowers\n",
    "\n",
    "output_file(\"iris.html\")\n",
    "f = figure()\n",
    "f.plot_width = 1100\n",
    "f.plot_height = 650\n",
    "f.background_fill_color = \"olive\"\n",
    "f.background_fill_alpha = 0.3\n",
    "\n",
    "f.title.text = \"Iris Morphology\"\n",
    "f.title.text_color = \"olive\"\n",
    "f.title.text_font = \"times\"\n",
    "f.title.text_font_size = \"25px\"\n",
    "f.title.align = \"center\"\n",
    "\n",
    "f.xaxis.minor_tick_line_color = \"blue\"\n",
    "f.yaxis.major_label_orientation = \"vertical\"\n",
    "f.xaxis.visible = True\n",
    "#f.xaxis.minor_tick_line_color = None\n",
    "f.xaxis.minor_tick_in = -5\n",
    "#f.xaxis.minor_tick_out = 10\n",
    "f.xaxis.axis_label = \"Petal Length\"\n",
    "f.yaxis.axis_label = \"Petal Width\"\n",
    "f.axis.axis_label_text_color = \"blue\"\n",
    "f.axis.major_label_text_color = \"orange\"\n",
    "\n",
    "f.circle(x = flowers[\"petal_length\"], y = flowers[\"petal_width\"])\n",
    "\n",
    "\n",
    "show(f)"
   ]
  }
 ],
 "metadata": {
  "kernelspec": {
   "display_name": "Python 3",
   "language": "python",
   "name": "python3"
  },
  "language_info": {
   "codemirror_mode": {
    "name": "ipython",
    "version": 3
   },
   "file_extension": ".py",
   "mimetype": "text/x-python",
   "name": "python",
   "nbconvert_exporter": "python",
   "pygments_lexer": "ipython3",
   "version": "3.6.0"
  }
 },
 "nbformat": 4,
 "nbformat_minor": 2
}
